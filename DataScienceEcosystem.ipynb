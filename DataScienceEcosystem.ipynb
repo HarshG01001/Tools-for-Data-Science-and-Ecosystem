{
  "metadata": {
    "kernelspec": {
      "name": "python",
      "display_name": "Python (Pyodide)",
      "language": "python"
    },
    "language_info": {
      "codemirror_mode": {
        "name": "python",
        "version": 3
      },
      "file_extension": ".py",
      "mimetype": "text/x-python",
      "name": "python",
      "nbconvert_exporter": "python",
      "pygments_lexer": "ipython3",
      "version": "3.8"
    }
  },
  "nbformat_minor": 4,
  "nbformat": 4,
  "cells": [
    {
      "cell_type": "markdown",
      "source": "# Tools for Data Science and Ecosystem",
      "metadata": {}
    },
    {
      "cell_type": "markdown",
      "source": "In this Notebook, Data Science tools and Ecosystem are summarized.",
      "metadata": {}
    },
    {
      "cell_type": "markdown",
      "source": "Some of the popular languages that Data Scientists use are:\n1. Python\n2. R\n3. SQL\n4. Java \n5. C++ , etc...;",
      "metadata": {}
    },
    {
      "cell_type": "markdown",
      "source": "Some of the commmonly used libraries used by Data Scientists are:\n1. TensorFlow\n2. Numpy\n3. Scipy\n4. Pandas\n5. Matplotlib\n6. Keras\n7. SciKit-Learn\n8. Pytorch, etc...;",
      "metadata": {}
    },
    {
      "cell_type": "markdown",
      "source": "|Data Science Tools|\n|---|\n|SAS|\n|Apache Hadoop|\n|TensorFLow|",
      "metadata": {}
    },
    {
      "cell_type": "markdown",
      "source": "### Below are a few examples of evaluating Arithmatic Expressions in Python:",
      "metadata": {}
    },
    {
      "cell_type": "code",
      "source": "#A common Arithmatic example to multiply and then add integers\n(4*5)+6",
      "metadata": {
        "trusted": true
      },
      "outputs": [
        {
          "execution_count": 2,
          "output_type": "execute_result",
          "data": {
            "text/plain": "26"
          },
          "metadata": {}
        }
      ],
      "execution_count": 2
    },
    {
      "cell_type": "code",
      "source": "#This will convert 180 minutes to hours by dividing by 60.\n180/60",
      "metadata": {
        "trusted": true
      },
      "outputs": [
        {
          "execution_count": 3,
          "output_type": "execute_result",
          "data": {
            "text/plain": "3.0"
          },
          "metadata": {}
        }
      ],
      "execution_count": 3
    },
    {
      "cell_type": "markdown",
      "source": "__Objectives__\n* List of all languages in Data Science\n* List of all libraries in Data Science\n* List of well known Data Science tools\n* Perform basic Arithmatic functions in Python",
      "metadata": {}
    },
    {
      "cell_type": "markdown",
      "source": "## Author\nHarsh",
      "metadata": {}
    }
  ]
}